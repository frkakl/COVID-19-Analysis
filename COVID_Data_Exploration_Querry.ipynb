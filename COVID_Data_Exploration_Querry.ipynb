{
 "cells": [
  {
   "cell_type": "code",
   "execution_count": null,
   "metadata": {
    "vscode": {
     "languageId": "sql"
    }
   },
   "outputs": [],
   "source": [
    "SELECT *\n",
    "FROM PortfolioProject..Covid_Deaths\n",
    "ORDER BY 2"
   ]
  },
  {
   "cell_type": "code",
   "execution_count": null,
   "metadata": {
    "vscode": {
     "languageId": "sql"
    }
   },
   "outputs": [],
   "source": [
    "--Select Data Table that we are gonna use\n",
    "SELECT *\n",
    "FROM PortfolioProject..Covid_Vaccinations\n",
    "ORDER BY 3,4\n",
    "\n",
    "\n",
    "--Focusing at Total Cases and Total Deaths \n",
    "\n",
    "SELECT location,date,total_cases,new_cases,total_deaths,population\n",
    "FROM PortfolioProject..Covid_Deaths\n",
    "ORDER BY 1,2\n"
   ]
  },
  {
   "cell_type": "code",
   "execution_count": null,
   "metadata": {
    "vscode": {
     "languageId": "sql"
    }
   },
   "outputs": [],
   "source": [
    "SET ANSI_WARNINGS OFF\n",
    "-- Set divide by zero warnings off\n",
    "\n",
    "ALTER TABLE PortfolioProject..Covid_Deaths\n",
    "ALTER COLUMN total_cases FLOAT NULL;\n",
    "\n",
    "ALTER TABLE PortfolioProject..Covid_Deaths\n",
    "ALTER COLUMN total_deaths FLOAT NULL;\n",
    "\n",
    "\n",
    "ALTER TABLE PortfolioProject..Covid_Deaths\n",
    "ALTER COLUMN new_cases FLOAT NULL;\n",
    "\n",
    "ALTER TABLE PortfolioProject..Covid_Deaths\n",
    "ALTER COLUMN new_deaths FLOAT NULL;\n",
    "\n",
    "ALTER TABLE PortfolioProject..Covid_Deaths\n",
    "ALTER COLUMN population FLOAT NULL;\n",
    "\n",
    "-- Change data type because we use it for math operations"
   ]
  }
 ],
 "metadata": {
  "kernelspec": {
   "display_name": "Python 3.10.7 64-bit",
   "language": "python",
   "name": "python3"
  },
  "language_info": {
   "name": "python",
   "version": "3.10.7"
  },
  "orig_nbformat": 4,
  "vscode": {
   "interpreter": {
    "hash": "409559fae46d9e0bd8affa90b6b260ea6fd473ca6062bd0a30a8d2befc2c0146"
   }
  }
 },
 "nbformat": 4,
 "nbformat_minor": 2
}
